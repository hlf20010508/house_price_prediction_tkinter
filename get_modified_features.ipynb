{
 "cells": [
  {
   "cell_type": "code",
   "execution_count": 9,
   "id": "conservative-metabolism",
   "metadata": {},
   "outputs": [
    {
     "data": {
      "text/plain": [
       "['Type',\n",
       " 'Year built',\n",
       " 'Heating',\n",
       " 'Cooling',\n",
       " 'Parking',\n",
       " 'Lot',\n",
       " 'Bedrooms',\n",
       " 'Bathrooms',\n",
       " 'Full bathrooms',\n",
       " 'Total interior livable area',\n",
       " 'Total spaces',\n",
       " 'Garage spaces',\n",
       " 'Region',\n",
       " 'Elementary School Score',\n",
       " 'Elementary School Distance',\n",
       " 'Middle School Score',\n",
       " 'Middle School Distance',\n",
       " 'High School Score',\n",
       " 'High School Distance',\n",
       " 'Flooring',\n",
       " 'Appliances included',\n",
       " 'Laundry features',\n",
       " 'Parking features',\n",
       " 'Tax assessed value',\n",
       " 'Annual tax amount',\n",
       " 'Listed On',\n",
       " 'Listed Price',\n",
       " 'Last Sold On',\n",
       " 'Last Sold Price',\n",
       " 'Zip',\n",
       " 'State']"
      ]
     },
     "execution_count": 9,
     "metadata": {},
     "output_type": "execute_result"
    }
   ],
   "source": [
    "import pandas as pd\n",
    "from random import choice\n",
    "import numpy as np\n",
    "\n",
    "train_data = pd.read_csv('train.csv')\n",
    "train_data=train_data.drop(columns=['Id','Sold Price'])\n",
    "test_data = pd.read_csv('test.csv')\n",
    "test_data=test_data.drop(columns=['Id'])\n",
    "data=pd.concat([train_data,test_data])\n",
    "data.drop(columns=['Address','Summary','Elementary School','Middle School','High School','Heating features','Cooling features','City'],inplace=True)\n",
    "list(data)"
   ]
  },
  {
   "cell_type": "code",
   "execution_count": 11,
   "id": "human-nomination",
   "metadata": {},
   "outputs": [],
   "source": [
    "def fillna_most(data,name):\n",
    "    data[name].fillna(data[name].value_counts().index[0],inplace=True)"
   ]
  },
  {
   "cell_type": "code",
   "execution_count": 2,
   "id": "clean-payday",
   "metadata": {},
   "outputs": [],
   "source": [
    "def devide(data,name):\n",
    "    data[name]=data[name].fillna('unknown')\n",
    "    data[name]=data[name].map(lambda x:x.split(', '))\n",
    "    all=[]\n",
    "    for i in data[name]:\n",
    "        for j in i:\n",
    "            if j not in all:\n",
    "                all.append(j)\n",
    "    print(\"'%s' gets %d new features\"%(name,len(all)))\n",
    "    all.sort()\n",
    "    all=np.save('npy/'+name+'_devided.npy',np.array(all,dtype=object))"
   ]
  },
  {
   "cell_type": "code",
   "execution_count": null,
   "id": "important-yahoo",
   "metadata": {},
   "outputs": [],
   "source": [
    "def devide_time(data,name):\n",
    "    data[name]=data[name].map(lambda x:x.split('-'))\n",
    "    data[name+'_year']=data[name].map(lambda x:int(x[0]))\n",
    "    data[name+'_month']=data[name].map(lambda x:int(x[1]))\n",
    "    data[name+'_day']=data[name].map(lambda x:int(x[2]))\n",
    "    data.drop(columns=[name],inplace=True)"
   ]
  },
  {
   "cell_type": "code",
   "execution_count": 4,
   "id": "aging-uncle",
   "metadata": {},
   "outputs": [],
   "source": [
    "def one_hot(data,name):\n",
    "    temp=list(data[name].unique())\n",
    "    all=np.save('npy/'+name+'_onehot.npy',np.array(temp,dtype=object))"
   ]
  },
  {
   "cell_type": "code",
   "execution_count": 3,
   "id": "square-partnership",
   "metadata": {},
   "outputs": [
    {
     "name": "stdout",
     "output_type": "stream",
     "text": [
      "'Type' gets 89 new features\n",
      "'Heating' gets 158 new features\n",
      "'Cooling' gets 129 new features\n",
      "'Parking' gets 190 new features\n",
      "'Bedrooms' gets 42 new features\n",
      "'Flooring' gets 97 new features\n",
      "'Appliances included' gets 96 new features\n",
      "'Laundry features' gets 158 new features\n",
      "'Parking features' gets 163 new features\n"
     ]
    }
   ],
   "source": [
    "devide(data,'Type')\n",
    "devide(data,'Heating')\n",
    "devide(data,'Cooling')\n",
    "devide(data,'Parking')\n",
    "devide(data,'Bedrooms')\n",
    "devide(data,'Flooring')\n",
    "devide(data,'Appliances included')\n",
    "devide(data,'Laundry features')\n",
    "devide(data,'Parking features')"
   ]
  },
  {
   "cell_type": "code",
   "execution_count": 12,
   "id": "quarterly-invention",
   "metadata": {},
   "outputs": [],
   "source": [
    "fillna_most(data,'Region')"
   ]
  },
  {
   "cell_type": "code",
   "execution_count": 13,
   "id": "instant-biotechnology",
   "metadata": {},
   "outputs": [],
   "source": [
    "one_hot(data,'Region')\n",
    "one_hot(data,'State')"
   ]
  },
  {
   "cell_type": "code",
   "execution_count": 14,
   "id": "partial-pipeline",
   "metadata": {},
   "outputs": [
    {
     "data": {
      "text/plain": [
       "Los Angeles               12275\n",
       "San Jose                   7298\n",
       "San Francisco              5743\n",
       "San Diego                  1100\n",
       "San Mateo                   910\n",
       "                          ...  \n",
       "Salyer                        1\n",
       "Sattley                       1\n",
       "Green Acres                   1\n",
       "Palos Verdes Peninsula        1\n",
       "Callahan                      1\n",
       "Name: Region, Length: 1258, dtype: int64"
      ]
     },
     "execution_count": 14,
     "metadata": {},
     "output_type": "execute_result"
    }
   ],
   "source": [
    "data['Region'].value_counts()"
   ]
  },
  {
   "cell_type": "code",
   "execution_count": null,
   "id": "brazilian-healthcare",
   "metadata": {},
   "outputs": [],
   "source": []
  }
 ],
 "metadata": {
  "kernelspec": {
   "display_name": "Python 3",
   "language": "python",
   "name": "python3"
  },
  "language_info": {
   "codemirror_mode": {
    "name": "ipython",
    "version": 3
   },
   "file_extension": ".py",
   "mimetype": "text/x-python",
   "name": "python",
   "nbconvert_exporter": "python",
   "pygments_lexer": "ipython3",
   "version": "3.8.7"
  }
 },
 "nbformat": 4,
 "nbformat_minor": 5
}
