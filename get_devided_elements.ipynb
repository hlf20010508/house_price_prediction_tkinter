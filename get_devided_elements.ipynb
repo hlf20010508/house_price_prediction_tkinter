{
 "cells": [
  {
   "cell_type": "code",
   "execution_count": 46,
   "id": "capable-olympus",
   "metadata": {},
   "outputs": [],
   "source": [
    "import pandas as pd\n",
    "from random import choice\n",
    "import numpy as np"
   ]
  },
  {
   "cell_type": "code",
   "execution_count": 47,
   "id": "figured-cincinnati",
   "metadata": {},
   "outputs": [],
   "source": [
    "train_data = pd.read_csv('train.csv')"
   ]
  },
  {
   "cell_type": "code",
   "execution_count": 48,
   "id": "particular-arthur",
   "metadata": {},
   "outputs": [],
   "source": [
    "train_data=train_data.drop(columns=['Id','Sold Price'])"
   ]
  },
  {
   "cell_type": "code",
   "execution_count": 49,
   "id": "stainless-sussex",
   "metadata": {},
   "outputs": [],
   "source": [
    "test_data = pd.read_csv('test.csv')"
   ]
  },
  {
   "cell_type": "code",
   "execution_count": 50,
   "id": "honest-stanford",
   "metadata": {},
   "outputs": [],
   "source": [
    "test_data=test_data.drop(columns=['Id'])"
   ]
  },
  {
   "cell_type": "code",
   "execution_count": 51,
   "id": "working-medium",
   "metadata": {},
   "outputs": [],
   "source": [
    "data=pd.concat([train_data,test_data])"
   ]
  },
  {
   "cell_type": "code",
   "execution_count": 52,
   "id": "concrete-iraqi",
   "metadata": {},
   "outputs": [],
   "source": [
    "data.drop(columns=['Address','Summary','Elementary School','Middle School','High School','Heating features','Cooling features','City'],inplace=True)"
   ]
  },
  {
   "cell_type": "code",
   "execution_count": 55,
   "id": "activated-flight",
   "metadata": {},
   "outputs": [],
   "source": [
    "l=list(data)"
   ]
  },
  {
   "cell_type": "code",
   "execution_count": 58,
   "id": "registered-printing",
   "metadata": {},
   "outputs": [],
   "source": [
    "def get_most(data,name):\n",
    "    print(name,data[name].value_counts().index[0])"
   ]
  },
  {
   "cell_type": "code",
   "execution_count": 59,
   "id": "matched-prevention",
   "metadata": {},
   "outputs": [
    {
     "name": "stdout",
     "output_type": "stream",
     "text": [
      "Type SingleFamily\n",
      "Year built 2020.0\n",
      "Heating Central\n",
      "Cooling Central Air\n",
      "Parking Garage, Garage - Attached, Covered\n",
      "Lot 6098.0\n",
      "Bedrooms 3\n",
      "Bathrooms 2.0\n",
      "Full bathrooms 2.0\n",
      "Total interior livable area 1200.0\n",
      "Total spaces 2.0\n",
      "Garage spaces 2.0\n",
      "Region Los Angeles\n",
      "Elementary School Score 5.0\n",
      "Elementary School Distance 0.3\n",
      "Middle School Score 6.0\n",
      "Middle School Distance 0.6\n",
      "High School Score 7.0\n",
      "High School Distance 0.8\n",
      "Flooring Wood\n",
      "Appliances included Dishwasher, Dryer, Garbage disposal, Microwave, Range / Oven, Refrigerator, Washer\n",
      "Laundry features In Garage\n",
      "Parking features Garage, Garage - Attached, Covered\n",
      "Tax assessed value 510000.0\n",
      "Annual tax amount 1395.0\n",
      "Listed On 2021-01-13\n",
      "Listed Price 799000.0\n",
      "Last Sold On 2017-06-30\n",
      "Last Sold Price 300000.0\n",
      "Zip 95123\n",
      "State CA\n"
     ]
    }
   ],
   "source": [
    "for i in l:\n",
    "    get_most(data,i)"
   ]
  },
  {
   "cell_type": "code",
   "execution_count": 10,
   "id": "exposed-cabinet",
   "metadata": {},
   "outputs": [],
   "source": [
    "def devide(data,name):\n",
    "    data[name]=data[name].fillna('unknown')\n",
    "    data[name]=data[name].map(lambda x:x.split(', '))\n",
    "    all=[]\n",
    "    for i in data[name]:\n",
    "        for j in i:\n",
    "            if j not in all:\n",
    "                all.append(j)\n",
    "    print(\"'%s'\"%name+':'+str(all)+',')\n",
    "    print()"
   ]
  },
  {
   "cell_type": "code",
   "execution_count": 11,
   "id": "premium-citizenship",
   "metadata": {},
   "outputs": [
    {
     "name": "stdout",
     "output_type": "stream",
     "text": [
      "'Type':['SingleFamily', 'VacantLand', 'Unknown', 'Condo', 'Townhouse', 'Apartment', 'MultiFamily', 'MobileManufactured', '3 Story', 'Duplex', 'Flat', 'Attached', 'Detached', 'Single Family', 'Mid-Rise (4-8)', 'Top Floor', '2 Level', 'Semi-Attached', 'Cooperative', '31', 'Unit Below', 'Unit Above', 'Luxury', 'Triplex', '2 Story', 'New Construction', 'Penthouse', 'Low-Rise (1-3)', 'Acreage', '4+ Level', 'Hi-Rise (9+)', '1 Level', 'Live/Work', 'Ranch', 'RANCH', 'RURLRES', 'RECREAT', 'MFD-F', 'Recreational', 'Agricultural', '3 Level', 'Ground Floor', 'Full', 'End Unit', 'Flats', 'House & Apartments', 'Townhouses', 'Double Wide', 'Mobile Home', 'Vacant Land', 'Condominium', 'Fixer Upper', 'Junior', 'SINGLE', 'Manufactured Home', '4+ Story', 'Apartments', '1 Story', 'Residential Lot', 'RESIDENTIAL', '4 Story', 'Fourplex', 'LAND W/STRUCTURE', 'ACREAGE', 'MULTI', 'Studio', 'Split Level', 'One to Five Acres', 'Manufactured on Land', 'Residential Income', 'AGRI/LV', 'OTHER', 'Residential', '2+ RESIDENCES', 'Leased Land', '2', '3', '4', '8 PLEXES', 'Commercial', 'Lots/Land', 'Single Family Lot', '4+ Units', '2 Houses', 'Four-plex', 'Crop/Pasture', 'Mobile Land', '2 Units', 'Planned Unit Development'],\n",
      "\n",
      "'Heating':['Heating - 2+ Zones', 'Central Forced Air - Gas', 'Combination', 'Forced air', 'Central', 'unknown', 'Wall Furnace', 'Propane / Butane', 'Solar', 'Gas', 'Central Forced Air', 'Common', 'Forced Air', 'Propane', 'Electric', 'Wood Stove', 'Woodstove', 'Wall', 'Other', 'Stove - Wood', 'Floor Furnace', 'Fireplace(s)', 'Fireplace', 'Individual Room Controls', 'Gravity', 'Natural Gas', 'None', 'Baseboard', 'Radiant Floor', 'Steam', 'Zoned', 'ENERGY STAR Qualified Equipment', 'FAG', 'Gas Log', 'Space Heater', 'Forced Air - Gas', 'Heat pump', 'Radiant', 'Forced Air - Elec', 'Fagh Guest House', 'Heat Pump', 'Wood', 'Solar and Gas', 'Stove Heater', 'Wall Heater', 'Solar with Back-up', 'Radiant Floors', 'Hot Water', 'Wood / Pellet', 'See Remarks', 'Electric Furnace', 'Stove - Pellet', 'Stove', 'wood', 'Individual Rm Controls', 'Stove - Propane', 'No Heating', 'Gas Pac', 'Wall Electric', 'Pellet Stove', '6', 'High Efficiency', 'CFAG', 'Wall Gas', 'CFAE', 'MultiUnits', 'Central Furnace', 'Zoned - Elec', 'Geothermal', 'Ductless', 'Mini-Split', 'Diesel/oil Space Heater', 'Wood Burn. Stove', 'Kerosene/oil', 'Varies by Unit', 'Oil', 'Heatpump In Guesthse', 'Propane Stove', 'Space', 'Forced Air/Central', 'Wall Unit', 'Forced Air 1 Zone', 'Passive Solar', 'yes', 'Fireplace Insert', 'Dual Pack', 'Propane Wall Heater', 'FA', 'Propane Heat', 'Stove Propane', 'Kerosene', 'Other-Attch', 'Zoned - Gas', '3 Units', 'Recirculating Pump', 'Humidity Control', 'Other-Rmks', 'Propane Heater', 'Forced Air-Gas', 'Active Solar', 'Forced Air-Elec.', 'Dual Gas & Electric', 'Central Heat/Gas', 'Other - See Remarks', 'Ducted to All Rooms', 'Gas Heat', 'Other (See Remarks)', 'Forced - Electric', 'Forced - Gas', 'Diesel', 'Mini Split', 'High Effciency', 'Natural Gas Furnace', 'Wood Burning Stove', 'Central Forced Heat', 'Electric Baseboard', 'FA/Gas', 'Daiken Mini Splits', 'Floor', 'EBB', 'Zonal', 'central', 'Electric/ETS', 'Mini-splits', 'Solar w/Backup', 'CFAH', 'Coal', 'Propane FAU', 'Electric Heat', 'Furnace', 'Heatpump In Addition', '2 Pellet Stove', 'Mini-split', 'Central Heat/Elec', 'Heating \\\\ Yes', 'Dual Heating System', 'Combo', 'MultiZone', 'Heat Pump-Air', 'Fireplace w/insert', 'Propane Wall', 'Greatroom Fireplace', 'forced air', 'Pellet', 'Electric Wall', 'In Floor', 'Hydronic', 'Monitor', 'Perimeter', 'Smart Vent', 'Furnace Propane Gh', 'Furnace Wall', 'Central Heat', 'Ductless HP', 'Freestanding Propane', 'Freestanding Woodburner', 'Energy Star Qualified Equipment', 'Solar Heat'],\n",
      "\n",
      "'Cooling':['Multi-Zone', 'Central AC', 'Whole House / Attic Fan', 'Wall/Window Unit(s)', 'Evaporative Cooling', 'See Remarks', 'unknown', 'Central Air', 'Window Unit(s)', 'Other', 'None', 'Ceiling Fan(s)', 'Refrigerator', 'Central', 'Ceiling Fan', 'Dual', 'Whole House Fan', 'Heat Pump', 'No Air Conditioning', 'Wall', 'Electric', 'Zoned', 'Window / Wall Unit', 'ENERGY STAR Qualified Equipment', 'Ceiling Fans', 'AC Central', 'Dual Cooling', 'Air Conditioning', 'Evaporative Cooler', 'Gas', 'High Efficiency', 'Evaporative', 'Evap Central', 'Window Unit', 'Room Air', 'Solar', 'Wall/Window', 'Multi/Zone', 'Other-Rmks', 'CFAC', 'Multi Units', 'Zoned AC', 'Wall Unit(s)', 'AC Zoned', 'SEER Rated 13-15', 'Central Forced Air', 'Ceiling Fans Pre-Wired', 'Attic Fan', 'Varies by Unit', 'Mini-split In Famrm', 'AC Wall', 'Central Forced Air - Gas', 'Evap Cooler', 'Central 1 Zone A/C', 'N/K', 'SEER Rated 16+', 'Gas Pac', '2 Ac Central Units', 'Evap Window', 'Heat Pump(s)', '2 Mini-splits', 'Dual Pack', 'Wall Unit', 'New Construction Option', 'Cooling', 'Ductless', 'Central Air/Refrig', '3 Units', 'Other / 3 units', 'Humidity Control', 'Other/Remarks', 'Refrigerated Air', 'Other AC', 'Roof Unit', 'Exhaust Fan', 'Mini-split Master', 'Ac Combo', 'Window/Wall Unit', '2 Cooling Units', '2 Units', '2-units', 'Swamp Cooler', 'Propane', 'Swamp Cooler(s)', 'Evap Guest House', 'Two Ac', 'Refrigeration', 'Geothermal', 'Ground Unit', 'Mini Split', 'High Effciency', 'Buyer To Verify', 'Energy Star Qualified Equipment', 'Master Cooler', 'Evap Zone', 'Fan/mini Splits', 'Window', 'MultiZone', 'Wall Air', 'Central Air/Evap', 'Other-Attch', 'Minisplit', 'MultiUnits', 'Room Refrig Air', 'Mini-splits', 'Programmable Thmstat', 'In 2 Guest Bedrooms', 'Mini-split', 'Evap Hallway', 'Cooling \\\\ Yes', 'Mini Split Casita', 'Central Heating', 'Refridge Wall/Window', 'Other/See Comments', 'central', 'Roof Turbine(s)', 'Evap On Roof', 'Split System', 'Zoned Area(s)', 'None In Guest House', 'Evap Wall/Window', 'Has Ducting Hvac', 'All Electric', 'Mini Split Ac', 'Evap Combo', 'Smart Vent', 'wall', 'Energy Star', 'Unit Replaced 5 Yrs'],\n",
      "\n",
      "'Parking':['Garage', 'Garage - Attached', 'Covered', 'Detached Carport', '0 spaces', 'Driveway', 'Garage - Two Door', 'Carport', 'Attached', 'Enclosed', 'Garage Door Opener', 'Interior Access', 'Independent', 'On Site', 'On Site (Single Family Only)', 'Garage - Detached', 'Side By Side', 'Side by Side', 'On Site - Mapped (Condo Only)', 'Gated', 'Parking Space', 'Concrete', 'Garage Faces Front', 'Off-street', 'Assigned', 'Controlled Entrance', 'Guest', 'Underground', 'None', 'Auto Driveway Gate', 'Built-In Storage', 'Community Structure', 'Direct Access', 'Garage Faces Rear', 'Garage Faces Side', 'unknown', 'Underground/Basement', 'Work/Shop Area', 'Auto Opener', 'Valet', 'On-street', 'Auto Door', 'Deck', 'On Site - Lease Available (Condo Only)', 'Garage - Single Door', 'Private', 'Attached Carport', 'Other', 'Mixed', 'No Garage', 'Gravel', 'Additional Garage', 'Parking Pad', 'Open', 'Driveway - Combination', 'Paved', 'Tandem', 'Driveway Level', 'RV Access/Parking', 'Garage - Three Door', 'On Street', 'Detached', 'Side Yard Access', 'Off Street', 'Space Per Unit - 1', 'Converted Garage', 'Attached Garage Cabinets', 'Unassigned', 'Mechanical Lift', 'Shared Driveway', '2 Car Garage', 'Asphalt', 'Oversized', 'Size Limited', 'RV', 'Oversized Parking', 'Boat', 'See Remarks', 'Driveway Down Slope From Street', 'RV Potential', 'RV Garage', 'Drive Through', 'Parking Spaces', 'Off Site', 'Permit Required', 'On Site - Unassigned (Condo Only)', 'RV Covered', 'RV Gated', 'RV/Boat Parking', 'Workshop in Garage', 'Golf Cart Garage', 'Parking Lot', 'Over Height Garage', 'Unpaved', 'Driveway Up Slope From Street', 'Tandem Covered', 'Tandem Uncovered', 'Public', 'Structure', 'Porte-Cochere', 'Storage', 'Electric Vehicle Charging Station(s)', 'Int Access From Garage', 'Circular Driveway', 'Uncovered', 'Existing RV Parking', 'Potential RV Parking', 'No Driveway', 'Pull-through', 'Not Assigned', '4 + Car Garage', 'Rotational', 'Driveway - Brick', 'Carport - 2 Or More', 'Over 20 Spaces', '1 - 10 Spaces', '3 Car Garage', 'Additional Carport', 'Secured', 'Below Building Parking', 'Space Per Unit - 2', 'Oversized Garage', 'Gar #2', 'Gar #1', 'Unc #2', 'Drive Thru', 'Utility Sink', '1 Car Garage', 'Guest Space(s)', 'Detached Garage', 'Street', 'More than One Space', 'Heated Garage', 'Sink in Garage', 'Gar #3', 'No Parking on Site', 'Inside Entrance', 'Unc #3', 'Manual Door', 'Gar #4', '2 Parking Spaces', 'Carports - 2 Or More', 'Drive Thru Garage', '3 or More Parking Sp', 'Undersized Garage', 'Cpt #1', 'Remote', 'RV Access', 'Off Street Parking', 'RV Possible', 'Uncovered Park Spaces 2+', 'Cpt #2', 'Two', 'Street Parking', 'Insulated', 'Uncovered Parking Space', 'RV Parking', 'One', '11 - 20 Spaces', '1/2 Car Space', 'Plumbing', 'Unc #4', 'Alley Access', '(2)10x12(1)9x15 Shed', 'Offstreet', 'Restrictions', 'Gar #5', 'Awning - Car', 'Three', 'RV Storage', 'Unc #1', 'Tandem Garage', 'One Space per Unit', '4-7 Cars', 'Under Cover', 'Hugeworkshop Garage', 'RV Garage Detached', \"24'+ Deep Garage\", 'Driveway Blind', 'Four +', 'Bonus Area Inside', 'RV Garage Attached', 'Conversion', 'Buyer To Verify', 'Security Garage', 'Converted', 'Drywall&painted', 'Cpt #3', '1 Is Converted', 'Below Ground Parking'],\n",
      "\n",
      "'Bedrooms':['Ground Floor Bedroom', 'Master Bedroom on Ground Floor', 'Master Suite / Retreat', 'Walk-in Closet', '3', '2', '5', 'unknown', '4', '0', '6', 'More than One Bedroom on Ground Floor', '1', 'Master Suite / Retreate - 2+', 'More than One Master Bedroom', '10', '16', '7', '8', 'More than One Master Bedroom on Ground Floor', 'Inverted Floor Plan', 'Reverse Floor Plan', '9', 'Loft Bedroom', '22', '12', '18', '19', '11', '24', '20', '27', '14', '15', '21', '26', '29', '31', '30', '42', '40', '13'],\n",
      "\n"
     ]
    },
    {
     "name": "stdout",
     "output_type": "stream",
     "text": [
      "'Flooring':['Tile', 'Hardwood', 'Carpet', 'unknown', 'Wood', 'Linoleum / Vinyl', 'Laminate', 'Linoleum/Vinyl', 'Marble', 'Vinyl', 'Carpeted', 'Vinyl / Linoleum', 'Stone', 'Simulated Wood', 'Softwood', 'Concrete', 'Hardwood Flrs Throughout', 'Travertine', 'Other', 'Cement', 'See Remarks', 'Ceramic Tile', 'Sustainable', 'Stained Brick', 'Unfinished', 'Slate', 'Bamboo', 'Linoleum', 'Parquet', 'Mixed', 'Stone Tile', 'Granite', 'Cork', 'Recycled Carpet', 'Plank', 'Engineered Wood', 'Laminated', 'Vinyl/Linoleum', 'Mexican Tile', 'Sustainable Materials', 'Brick', 'None', 'Painted/Stained', 'Wood/Wood Like', 'Varies by Unit', 'Sheet Vinyl', 'Concrete Slab', 'Natural Stone', 'Custom Concrete', 'Stamped', 'Saltillo', 'Prem. Wood Based Lam', 'Other-Rmks', 'Vinyl Tile', 'Other-Attch', 'Reclaimed', 'Wood Under Carpet', 'Adobe', 'Partial Carpeting', 'Varies', 'Other / Karndean Vinyl Plank', 'Colored', 'Saltillo&ceramictile', 'CRI Green Label Plus Certified Carpet', 'Post Tension Slab', 'Mud Adobe & Brick', 'Combination', 'Stained Concrete', 'Other / Brick', 'Asphalt Tile', 'Other / Wood accents', 'Porcelain', 'Some Floor Missing', 'Tbd', 'Partially Carpeted', 'Other - See Remarks', 'Bamboo & Cherry', 'Partial Carpet', 'Wood/Laminate', 'Needs To Be Replaced', 'Porcelain Tile', 'Parquet Wood', 'No Flooring', 'Pavers', 'Water Proof', 'New Flooring', 'carpet', 'laminate', 'tile', 'Laminate Wood', 'Brazilian Tile', 'Travertine And Wood', 'In The Bedrooms', 'Reclaimed Wood', 'Natural Fiber Carpet', 'Stone/Travertine', 'Lvp ~luxury Vinyl Pl'],\n",
      "\n",
      "'Appliances included':['Dishwasher', 'Dryer', 'Garbage disposal', 'Microwave', 'Refrigerator', 'Washer', 'unknown', 'Range / Oven', 'Disposal', 'Range Hood', 'Ice Maker', 'Freezer', 'Gas Cooktop', 'Gas Water Heater', 'Built-In', 'Vented Exhaust Fan', 'Water Purifier', 'Convection Oven', 'Gas Range', 'Range', 'Free-Standing Range', 'Gas Oven', 'Barbecue', 'Double Oven', 'Electric Range', '6 Burner Stove', 'Trash compactor', 'Trash Compactor', 'Self Cleaning Oven', 'Water Heater', 'Counter Top', 'Oven', 'ENERGY STAR Qualified Appliances', 'Tankless Water Heater', 'Water Line to Refrigerator', 'Electric Oven', 'Electric Cooktop', 'Electric Water Heater', 'Gas Cooking', 'Gas & Electric Range', 'Plumbed For Ice Maker', 'Propane Water Heater', 'Water Heater Central', 'Built-In Range', 'None', 'Free-Standing Refrigerator', 'ENERGY STAR Qualified Water Heater', 'High Efficiency Water Heater', 'Washer/Dryer', 'Grill Built-in', 'Instant Hot Water', 'Propane Oven', 'Propane Range', 'Indoor Grill', 'Recirculated Exhaust Fan', 'Water Softener', 'Water Filter System', 'Gas Range/Cooktop', 'Washer/Dryer Leased', 'Solar Hot Water', 'Warming Drawer', 'Water Softener Owned', 'Solar Water Heater Owned', 'Free Standing', 'Electric Cooking', 'Propane Cooktop', 'Propane Cooking', 'Free-Standing Gas Oven', 'Free-Standing Gas Range', 'Cooktop', 'Insulated Water Heater', 'Portable Dishwasher', 'Other', 'Built In Oven/Range', 'Hot Water Circulator', 'Water Softener Rented', 'Electric Range/Cooktop', 'Washer/Dryer Stacked Included', 'All Electric', 'Dishwasher Never Use', 'Solar Water Heater Leased', 'See Remarks', 'Built-In Electric Oven', 'Wine Refrigerator', 'Missing Ext. Glass', '1 Refrigerator', 'Coal Water Heater', 'Stove Is Tenants Own', 'Free-Standing Electric Range', 'Gas Plumbed', 'Brand New Appliance', 'Refrig Negotiable', 'Free-Standing Electric Oven', 'Dwstoveb4coe', 'Submit', 'Other Appl Available'],\n",
      "\n",
      "'Laundry features':['Washer / Dryer', 'Inside', 'In Utility Room', 'unknown', 'Stackable', 'Upper Level', 'Inside Area', 'Laundry Closet', 'In Garage', 'Laundry Room', 'In Unit', 'Gas Hookup', '220', 'Dryer Hookup', 'Washer Hookup', 'Electricity Hookup (110V)', 'Gas & Electric Dryer Hookup', 'In Kitchen', 'Tub / Sink', 'Electricity Hookup (220V)', 'Gas Dryer Hookup', 'Outside', 'Individual Room', 'None', 'Upper Floor', 'Community', '220 Volt Outlet', 'Inside Room', 'Coin Operated', 'Hookups Only', 'See Remarks', 'Common Area', 'Community Facility', 'Dryer', 'Washer', 'Gas Hook-up', 'Sink', 'cabinets', 'Washer/Dryer - Some Units', 'Laundry Area', 'Other', 'Room', 'Closet', 'Electric Dryer Hookup', 'Area', 'Dryer Included', 'Washer Included', 'Hookup - Electric', 'Utility Sink', 'In Basement', 'In Closet', 'Laundry Closet Stacked', 'Bathroom', 'For Washer Only', 'On Upper Level', 'Lower Level', 'Washer/Dryer hookup-Elect', 'In House', 'Electric Hook Up', 'Propane Dryer Hookup', 'Ready 4 Double Stack', 'Garage', 'Laundry Chute', 'Utility Room', 'Washer/Dryer Hookups', 'Washer/Dryer', 'On-Site', 'In Carport', 'Dryer - Electric', 'Washer/Dryer Includ', 'Stacked Space', 'Laundry Hookups', 'Dryer Hookups', 'Washer Hookups', 'Electric', 'Storage', 'Stacked Only', 'Kitchen', 'Hookups', 'In Living Room', 'Main Level', 'In Laundry Room', 'Hookup - Washer/Dryer', 'Other/See Remarks', 'Gas/Elec Dryer Hookup', 'On Porch', 'Built-in Linen', 'Washer/Dryer hookup-Both', 'Basement', 'Hookup - Gas Dryer', 'Gas Hook Up', 'Laundry Sink', 'Shelves', 'Gas', 'Other-Rmks', 'Shared Laundry Room', '2nd  Laundry', 'Hookups only', 'Ground Floor', 'Hall', 'Refrigerator/freezer', 'Other-Attch', 'On Lower Level', 'Gas Hook-Up', 'Yes', 'Cabinets', 'Other - Spec in Rem', 'Utility Basin', 'Inside Laundry', 'Laundry-pantry', 'Laundry Area in Unit', 'Washer/Dryer Stacked Incl', 'Dryer Hook-up', 'Washer Hook-up', 'No Hookups', 'Bath', 'Propane Dryer', 'Granite Counter', 'Porch', '220 Volts', 'Washer/Dryer Stacked Included', 'In Hall', 'Not In Unit', 'Varies by Unit', 'Laundry & Store Xhed', 'Space For Frzr/Refr', 'Chute', 'Laundry in Garage', 'Common', 'Laundry Equip - Leased', 'In-unit', '220V Elect', 'Separate Laundry Room', 'Stacked W/d', 'Electric Hook-up', 'Laundry \\\\ Yes', 'Folding Area', 'Hook Ups Outside', 'Laundry Area in Garage', 'Separate Room', 'In Park', 'Built In Cabinetry', 'Propane', 'Laundry Equip - Owned', 'Desk', 'Cabitets.', 'Separate', '2nd Frig; Stuwsh/dry', 'Coin Op', 'No Laundry Fac in Unit', 'Cabinetry', 'Downstairs', 'Laundry Room Guest H', 'With Storage', 'ground floor', 'Shared', 'With A Sink', 'Hallway'],\n",
      "\n",
      "'Parking features':['Garage', 'Garage - Attached', 'Covered', 'Detached Carport', 'unknown', 'Driveway', 'Garage - Two Door', 'Carport', 'Attached', 'Enclosed', 'Garage Door Opener', 'Interior Access', 'Independent', 'On Site', 'On Site (Single Family Only)', 'Garage - Detached', 'Side By Side', 'Side by Side', 'On Site - Mapped (Condo Only)', 'Gated', 'Parking Space', 'Concrete', 'Garage Faces Front', 'Off-street', 'Assigned', 'Controlled Entrance', 'Guest', 'Underground', 'None', 'Auto Driveway Gate', 'Built-In Storage', 'Community Structure', 'Direct Access', 'Garage Faces Rear', 'Garage Faces Side', 'Underground/Basement', 'Valet', 'On-street', 'On Site - Lease Available (Condo Only)', 'Garage - Single Door', 'Private', 'Attached Carport', 'Other', 'Mixed', 'No Garage', 'Gravel', 'Additional Garage', 'Parking Pad', 'Open', 'Driveway - Combination', 'Paved', 'Tandem', 'Driveway Level', 'RV Access/Parking', 'Garage - Three Door', 'On Street', 'Detached', 'Side Yard Access', 'Off Street', 'Space Per Unit - 1', 'Converted Garage', 'Attached Garage Cabinets', 'Unassigned', 'Mechanical Lift', 'Shared Driveway', '2 Car Garage', 'Asphalt', 'Oversized', 'Size Limited', 'See Remarks', 'Driveway Down Slope From Street', 'RV Potential', 'RV Garage', 'Drive Through', 'Parking Spaces', 'Off Site', 'Permit Required', 'On Site - Unassigned (Condo Only)', 'RV Covered', 'RV Gated', 'RV/Boat Parking', 'Workshop in Garage', 'Golf Cart Garage', 'Parking Lot', 'Over Height Garage', 'Deck', 'Unpaved', 'Driveway Up Slope From Street', 'Tandem Covered', 'Tandem Uncovered', 'Public', 'Structure', 'Porte-Cochere', 'Storage', 'Electric Vehicle Charging Station(s)', 'Boat', 'Int Access From Garage', 'Circular Driveway', 'Uncovered', 'No Driveway', 'Pull-through', '4 + Car Garage', 'Rotational', 'Driveway - Brick', 'Carport - 2 Or More', '3 Car Garage', 'Additional Carport', 'Secured', 'Below Building Parking', 'Space Per Unit - 2', 'Gar #2', 'Gar #1', 'Unc #2', 'Utility Sink', '1 Car Garage', 'Gar #3', 'No Parking on Site', 'Inside Entrance', 'Unc #3', 'Manual Door', 'Heated Garage', 'Gar #4', 'Carports - 2 Or More', 'Drive Thru Garage', 'Undersized Garage', 'Cpt #1', 'Remote', 'RV Access', 'RV Possible', 'Uncovered Park Spaces 2+', 'Cpt #2', 'Two', 'Street Parking', 'Insulated', 'Uncovered Parking Space', 'One', '1/2 Car Space', 'Plumbing', 'Unc #4', 'Alley Access', '(2)10x12(1)9x15 Shed', 'Restrictions', 'Gar #5', 'Awning - Car', 'Three', 'RV Storage', 'Unc #1', '4-7 Cars', 'Hugeworkshop Garage', 'RV Garage Detached', \"24'+ Deep Garage\", 'Driveway Blind', 'Four +', 'Bonus Area Inside', 'RV Garage Attached', 'Conversion', 'Buyer To Verify', 'Security Garage', 'Converted', 'Drywall&painted', 'Cpt #3', '1 Is Converted', 'Below Ground Parking'],\n",
      "\n"
     ]
    }
   ],
   "source": [
    "devide(data,'Type')\n",
    "devide(data,'Heating')\n",
    "devide(data,'Cooling')\n",
    "devide(data,'Parking')\n",
    "devide(data,'Bedrooms')\n",
    "devide(data,'Flooring')\n",
    "devide(data,'Appliances included')\n",
    "devide(data,'Laundry features')\n",
    "devide(data,'Parking features')"
   ]
  },
  {
   "cell_type": "code",
   "execution_count": 12,
   "id": "tough-sword",
   "metadata": {},
   "outputs": [],
   "source": [
    "pd.set_option(\"display.max_rows\", None)"
   ]
  },
  {
   "cell_type": "code",
   "execution_count": 14,
   "id": "unlimited-brooklyn",
   "metadata": {},
   "outputs": [],
   "source": [
    "def get_list(name):\n",
    "    fillna_most(data,name)\n",
    "    np.save('npy/%s.npy'%name,data[name].unique())"
   ]
  },
  {
   "cell_type": "code",
   "execution_count": 15,
   "id": "bottom-phoenix",
   "metadata": {},
   "outputs": [],
   "source": [
    "get_list('Region')\n",
    "get_list('State')"
   ]
  },
  {
   "cell_type": "code",
   "execution_count": null,
   "id": "enclosed-tennis",
   "metadata": {},
   "outputs": [],
   "source": []
  }
 ],
 "metadata": {
  "kernelspec": {
   "display_name": "Python 3",
   "language": "python",
   "name": "python3"
  },
  "language_info": {
   "codemirror_mode": {
    "name": "ipython",
    "version": 3
   },
   "file_extension": ".py",
   "mimetype": "text/x-python",
   "name": "python",
   "nbconvert_exporter": "python",
   "pygments_lexer": "ipython3",
   "version": "3.8.7"
  }
 },
 "nbformat": 4,
 "nbformat_minor": 5
}
